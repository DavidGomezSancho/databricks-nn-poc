{
 "cells": [
  {
   "cell_type": "code",
   "execution_count": 0,
   "metadata": {
    "application/vnd.databricks.v1+cell": {
     "cellMetadata": {
      "byteLimit": 2048000,
      "rowLimit": 10000
     },
     "inputWidgets": {},
     "nuid": "9ff7a278-7e31-4305-a624-e556304d8ab4",
     "showTitle": false,
     "tableResultSettingsMap": {},
     "title": ""
    }
   },
   "outputs": [],
   "source": [
    "from datasource.models import SourceConfig\n",
    "from datasource.base import DataSource\n",
    "from datasource.factory import DataSourceFactory\n",
    "from datetime import datetime\n",
    "import json\n",
    "from typing import List"
   ]
  },
  {
   "cell_type": "code",
   "execution_count": 0,
   "metadata": {
    "application/vnd.databricks.v1+cell": {
     "cellMetadata": {
      "byteLimit": 2048000,
      "rowLimit": 10000
     },
     "inputWidgets": {},
     "nuid": "4813f8f6-ec09-4691-8263-42909fbcf376",
     "showTitle": false,
     "tableResultSettingsMap": {},
     "title": ""
    }
   },
   "outputs": [],
   "source": [
    "\n",
    "dbutils.widgets.text(\"metastore-source-system\", \"\")\n",
    "lookup_json = dbutils.widgets.get(\"metastore-source-system\")\n",
    "\n",
    "parsed = json.loads(lookup_json)\n",
    "\n",
    "config_data_sources: List[SourceConfig] = [SourceConfig(**item) for item in parsed]"
   ]
  },
  {
   "cell_type": "code",
   "execution_count": 0,
   "metadata": {
    "application/vnd.databricks.v1+cell": {
     "cellMetadata": {
      "byteLimit": 2048000,
      "rowLimit": 10000
     },
     "inputWidgets": {},
     "nuid": "c54be66d-42b5-4566-8851-375115f1b1c6",
     "showTitle": false,
     "tableResultSettingsMap": {},
     "title": ""
    }
   },
   "outputs": [],
   "source": [
    "for config_data_source in config_data_sources:\n",
    "    source = DataSourceFactory.get_data_source(config_data_source)\n",
    "    today = datetime.today()\n",
    "    df_raw = source.read_from_raw(today)\n",
    "    source.write_to_delta(df_raw)\n",
    "    delta_table = source.read_from_delta()\n",
    "    delta_table.toDF().show()"
   ]
  }
 ],
 "metadata": {
  "application/vnd.databricks.v1+notebook": {
   "computePreferences": null,
   "dashboards": [],
   "environmentMetadata": {
    "base_environment": "",
    "environment_version": "2"
   },
   "inputWidgetPreferences": null,
   "language": "python",
   "notebookMetadata": {
    "pythonIndentUnit": 4
   },
   "notebookName": "data_hub_zone",
   "widgets": {}
  },
  "language_info": {
   "name": "python"
  }
 },
 "nbformat": 4,
 "nbformat_minor": 0
}
