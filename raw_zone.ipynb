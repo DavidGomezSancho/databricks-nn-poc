{
 "cells": [
  {
   "cell_type": "code",
   "execution_count": 0,
   "metadata": {
    "application/vnd.databricks.v1+cell": {
     "cellMetadata": {
      "byteLimit": 2048000,
      "rowLimit": 10000
     },
     "inputWidgets": {},
     "nuid": "69b8f3b7-22ec-4011-9cc0-e39b5c84e794",
     "showTitle": false,
     "tableResultSettingsMap": {},
     "title": ""
    }
   },
   "outputs": [],
   "source": [
    "from datasource.models import SourceConfig\n",
    "from datasource.base import DataSource\n",
    "from datasource.factory import DataSourceFactory"
   ]
  },
  {
   "cell_type": "code",
   "execution_count": 0,
   "metadata": {
    "application/vnd.databricks.v1+cell": {
     "cellMetadata": {
      "byteLimit": 2048000,
      "rowLimit": 10000
     },
     "inputWidgets": {},
     "nuid": "7b8fa1ba-1ec3-4f7c-8a50-a21e27149614",
     "showTitle": false,
     "tableResultSettingsMap": {},
     "title": ""
    }
   },
   "outputs": [],
   "source": [
    "import json\n",
    "from typing import List\n",
    "\n",
    "dbutils.widgets.text(\"metastore-source-system\", \"\")\n",
    "lookup_json = dbutils.widgets.get(\"metastore-source-system\")\n",
    "\n",
    "parsed = json.loads(lookup_json)\n",
    "\n",
    "config_data_sources: List[SourceConfig] = [SourceConfig(**item) for item in parsed]"
   ]
  },
  {
   "cell_type": "code",
   "execution_count": 0,
   "metadata": {
    "application/vnd.databricks.v1+cell": {
     "cellMetadata": {
      "byteLimit": 2048000,
      "rowLimit": 10000
     },
     "inputWidgets": {},
     "nuid": "a75afdb6-5a27-460d-bdf4-cfe1380d6619",
     "showTitle": false,
     "tableResultSettingsMap": {},
     "title": ""
    }
   },
   "outputs": [],
   "source": [
    "for config_data_source in config_data_sources:\n",
    "    source = DataSourceFactory.get_data_source(config_data_source)\n",
    "    print(f\"{config_data_source.source_name} ({config_data_source.source_type}) → {config_data_source.connection_string}\")\n",
    "    df_to_save_raw = source.read_source()\n",
    "    source.write_to_raw(df_to_save_raw)"
   ]
  }
 ],
 "metadata": {
  "application/vnd.databricks.v1+notebook": {
   "computePreferences": null,
   "dashboards": [],
   "environmentMetadata": {
    "base_environment": "",
    "environment_version": "2"
   },
   "inputWidgetPreferences": null,
   "language": "python",
   "notebookMetadata": {
    "pythonIndentUnit": 4
   },
   "notebookName": "raw_zone",
   "widgets": {}
  },
  "language_info": {
   "name": "python"
  }
 },
 "nbformat": 4,
 "nbformat_minor": 0
}
